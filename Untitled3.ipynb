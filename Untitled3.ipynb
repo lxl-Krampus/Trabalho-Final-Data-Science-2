{
 "cells": [
  {
   "cell_type": "code",
   "execution_count": 1,
   "id": "3db76545",
   "metadata": {},
   "outputs": [],
   "source": [
    "import folium\n",
    "from folium.plugins import HeatMap\n",
    "import pandas as pd\n",
    "import requests"
   ]
  },
  {
   "cell_type": "code",
   "execution_count": null,
   "id": "b97ac100",
   "metadata": {},
   "outputs": [],
   "source": [
    "import folium\n",
    "from folium.plugins import HeatMap\n",
    "import pandas as pd\n",
    "import requests\n",
    "\n",
    "# Defina seu endereço de API do Bing Maps\n",
    "api_key = \"ApFUmBe32dYyXD82-51dg3dzWSeUOWOaRiSn2S9DscpWmnfyH1tVLSSkMt36O_CU\"\n",
    "\n",
    "# Lista de endereços a serem geocodificados\n",
    "enderecos = EXP_2022F['Regiao']\n",
    "\n",
    "# Geocodificação dos endereços usando o Bing Maps\n",
    "latitudes = []\n",
    "longitudes = []\n",
    "\n",
    "for endereco in enderecos:\n",
    "    url = f\"https://dev.virtualearth.net/REST/v1/Locations?q={endereco}&key={api_key}\"\n",
    "    response = requests.get(url)\n",
    "    data = response.json()\n",
    "    \n",
    "    # Verifique se a resposta contém dados válidos\n",
    "    if 'resourceSets' in data and data['resourceSets'] and 'resources' in data['resourceSets'][0]:\n",
    "        location = data['resourceSets'][0]['resources'][0]['point']['coordinates']\n",
    "        latitudes.append(location[0])\n",
    "        longitudes.append(location[1])\n",
    "    else:\n",
    "        # Caso não haja resultados válidos, adicione valores nulos ou trate de outra forma\n",
    "        latitudes.append(None)\n",
    "        longitudes.append(None)\n",
    "\n",
    "for endereco in enderecos:\n",
    "    url = f\"https://dev.virtualearth.net/REST/v1/Locations?q={endereco}&key={api_key}\"\n",
    "    response = requests.get(url)\n",
    "    data = response.json()\n",
    "    location = data['resourceSets'][0]['resources'][0]['point']['coordinates']\n",
    "    latitudes.append(location[0])\n",
    "    longitudes.append(location[1])\n",
    "\n",
    "# Crie um DataFrame com as informações de latitude e longitude\n",
    "data = {'latitude': latitudes, 'longitude': longitudes}\n",
    "df = pd.DataFrame(data)\n",
    "\n",
    "# Crie um mapa Folium\n",
    "m = folium.Map([48, 5], zoom_start=6)\n",
    "\n",
    "# Adicione o mapa de calor com base no DataFrame\n",
    "HeatMap(df).add_to(m)\n",
    "\n",
    "# Salve o mapa como um arquivo HTML\n",
    "m.save(\"bing_maps_heatmap.html\")"
   ]
  }
 ],
 "metadata": {
  "kernelspec": {
   "display_name": "Python 3 (ipykernel)",
   "language": "python",
   "name": "python3"
  },
  "language_info": {
   "codemirror_mode": {
    "name": "ipython",
    "version": 3
   },
   "file_extension": ".py",
   "mimetype": "text/x-python",
   "name": "python",
   "nbconvert_exporter": "python",
   "pygments_lexer": "ipython3",
   "version": "3.10.9"
  }
 },
 "nbformat": 4,
 "nbformat_minor": 5
}
