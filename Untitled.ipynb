{
 "cells": [
  {
   "cell_type": "code",
   "execution_count": 3,
   "id": "736ba085",
   "metadata": {},
   "outputs": [],
   "source": [
    "import pydrive\n",
    "import pandas as pd"
   ]
  },
  {
   "cell_type": "code",
   "execution_count": 4,
   "id": "7a1b98ab",
   "metadata": {},
   "outputs": [],
   "source": [
    "from pydrive.auth import GoogleAuth"
   ]
  },
  {
   "cell_type": "code",
   "execution_count": 5,
   "id": "7a223db8",
   "metadata": {},
   "outputs": [],
   "source": [
    "gauth = GoogleAuth()"
   ]
  },
  {
   "cell_type": "code",
   "execution_count": 6,
   "id": "d521de00",
   "metadata": {},
   "outputs": [
    {
     "name": "stdout",
     "output_type": "stream",
     "text": [
      "Your browser has been opened to visit:\n",
      "\n",
      "    https://accounts.google.com/o/oauth2/auth?client_id=901520707887-n9aq6vtakjaeaplqsrkjum317vlq5m4r.apps.googleusercontent.com&redirect_uri=http%3A%2F%2Flocalhost%3A8080%2F&scope=https%3A%2F%2Fwww.googleapis.com%2Fauth%2Fdrive&access_type=offline&response_type=code\n",
      "\n",
      "Authentication successful.\n"
     ]
    }
   ],
   "source": [
    "gauth.LocalWebserverAuth()"
   ]
  },
  {
   "cell_type": "code",
   "execution_count": null,
   "id": "931f3bf6",
   "metadata": {},
   "outputs": [],
   "source": []
  }
 ],
 "metadata": {
  "kernelspec": {
   "display_name": "Python 3 (ipykernel)",
   "language": "python",
   "name": "python3"
  },
  "language_info": {
   "codemirror_mode": {
    "name": "ipython",
    "version": 3
   },
   "file_extension": ".py",
   "mimetype": "text/x-python",
   "name": "python",
   "nbconvert_exporter": "python",
   "pygments_lexer": "ipython3",
   "version": "3.10.9"
  }
 },
 "nbformat": 4,
 "nbformat_minor": 5
}
