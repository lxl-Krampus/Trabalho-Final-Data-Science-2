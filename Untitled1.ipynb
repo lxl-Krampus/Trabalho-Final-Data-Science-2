{
 "cells": [
  {
   "cell_type": "code",
   "execution_count": 1,
   "id": "d9ad0b79",
   "metadata": {},
   "outputs": [
    {
     "name": "stdout",
     "output_type": "stream",
     "text": [
      "Your browser has been opened to visit:\n",
      "\n",
      "    https://accounts.google.com/o/oauth2/auth?client_id=901520707887-n9aq6vtakjaeaplqsrkjum317vlq5m4r.apps.googleusercontent.com&redirect_uri=http%3A%2F%2Flocalhost%3A8080%2F&scope=https%3A%2F%2Fwww.googleapis.com%2Fauth%2Fdrive&access_type=offline&response_type=code\n",
      "\n",
      "Authentication successful.\n"
     ]
    }
   ],
   "source": [
    "from pydrive.auth import GoogleAuth\n",
    "from pydrive.drive import GoogleDrive\n",
    "\n",
    "gauth = GoogleAuth()\n",
    "gauth.LocalWebserverAuth()\n",
    "drive = GoogleDrive(gauth)"
   ]
  },
  {
   "cell_type": "code",
   "execution_count": 2,
   "id": "c8226158",
   "metadata": {},
   "outputs": [],
   "source": [
    "folder_id = 'Trabalho_Final_DS2.ipynb'"
   ]
  },
  {
   "cell_type": "code",
   "execution_count": null,
   "id": "76eeaac6",
   "metadata": {},
   "outputs": [],
   "source": [
    "folder = drive.CreateFile({'id': folder_id})\n",
    "folder.FetchMetadata()"
   ]
  }
 ],
 "metadata": {
  "kernelspec": {
   "display_name": "Python 3 (ipykernel)",
   "language": "python",
   "name": "python3"
  },
  "language_info": {
   "codemirror_mode": {
    "name": "ipython",
    "version": 3
   },
   "file_extension": ".py",
   "mimetype": "text/x-python",
   "name": "python",
   "nbconvert_exporter": "python",
   "pygments_lexer": "ipython3",
   "version": "3.10.9"
  }
 },
 "nbformat": 4,
 "nbformat_minor": 5
}
